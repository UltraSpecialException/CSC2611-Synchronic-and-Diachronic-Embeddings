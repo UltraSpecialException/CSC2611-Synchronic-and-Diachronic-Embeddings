{
  "nbformat": 4,
  "nbformat_minor": 0,
  "metadata": {
    "colab": {
      "name": "csc2611-lab.ipynb",
      "provenance": [],
      "collapsed_sections": [],
      "machine_shape": "hm"
    },
    "kernelspec": {
      "name": "python3",
      "display_name": "Python 3"
    }
  },
  "cells": [
    {
      "cell_type": "code",
      "metadata": {
        "id": "-lLxyvndknae",
        "colab_type": "code",
        "colab": {}
      },
      "source": [
        "import gensim\n",
        "import numpy as np\n",
        "from scipy.stats import pearsonr\n",
        "import pickle\n",
        "from sklearn.metrics.pairwise import cosine_distances"
      ],
      "execution_count": 0,
      "outputs": []
    },
    {
      "cell_type": "code",
      "metadata": {
        "id": "tb6g9m7FktDl",
        "colab_type": "code",
        "outputId": "db0a0990-090e-4410-8b04-c984be8ffe41",
        "colab": {
          "base_uri": "https://localhost:8080/",
          "height": 34
        }
      },
      "source": [
        "from google.colab import drive\n",
        "drive.mount('/content/gdrive')"
      ],
      "execution_count": 2,
      "outputs": [
        {
          "output_type": "stream",
          "text": [
            "Drive already mounted at /content/gdrive; to attempt to forcibly remount, call drive.mount(\"/content/gdrive\", force_remount=True).\n"
          ],
          "name": "stdout"
        }
      ]
    },
    {
      "cell_type": "code",
      "metadata": {
        "id": "MZQT1Co4p1JP",
        "colab_type": "code",
        "outputId": "0ec6c7d1-b500-4384-80e2-de7d2bad43a8",
        "colab": {
          "base_uri": "https://localhost:8080/",
          "height": 34
        }
      },
      "source": [
        "% cd /content/gdrive/My\\ Drive/UofT/Third\\ Year/CSC2611/lab"
      ],
      "execution_count": 3,
      "outputs": [
        {
          "output_type": "stream",
          "text": [
            "/content/gdrive/My Drive/UofT/Third Year/CSC2611/lab\n"
          ],
          "name": "stdout"
        }
      ]
    },
    {
      "cell_type": "markdown",
      "metadata": {
        "id": "T_GqHb2_4-UZ",
        "colab_type": "text"
      },
      "source": [
        "# Part 1: Synchronic word embedding"
      ]
    },
    {
      "cell_type": "code",
      "metadata": {
        "id": "YwWMSZ8TqCJQ",
        "colab_type": "code",
        "outputId": "e33309cf-7ab6-4ed4-c78c-8686b22a50d6",
        "colab": {
          "base_uri": "https://localhost:8080/",
          "height": 71
        }
      },
      "source": [
        "word2vec = gensim.models.KeyedVectors.load_word2vec_format(\"GoogleNews-vectors-negative300.bin\", binary=True)"
      ],
      "execution_count": 4,
      "outputs": [
        {
          "output_type": "stream",
          "text": [
            "/usr/local/lib/python3.6/dist-packages/smart_open/smart_open_lib.py:402: UserWarning: This function is deprecated, use smart_open.open instead. See the migration notes for details: https://github.com/RaRe-Technologies/smart_open/blob/master/README.rst#migrating-to-the-new-open-function\n",
            "  'See the migration notes for details: %s' % _MIGRATION_NOTES_URL\n"
          ],
          "name": "stderr"
        }
      ]
    },
    {
      "cell_type": "code",
      "metadata": {
        "id": "NWB8kjbA2h1a",
        "colab_type": "code",
        "colab": {}
      },
      "source": [
        "pair_of_words = [\n",
        "                 (\"cord\", \"smile\"), \n",
        "                 (\"rooster\", \"voyage\"),\n",
        "                 (\"noon\", \"string\"),\n",
        "                 (\"fruit\", \"furnace\"),\n",
        "                 (\"autograph\", \"shore\"),\n",
        "                 (\"automobile\", \"wizard\"),\n",
        "                 (\"mount\", \"stove\"),\n",
        "                 (\"grin\", \"implement\"),\n",
        "                 (\"asylum\", \"fruit\"),\n",
        "                 (\"asylum\", \"monk\"),\n",
        "                 (\"graveyard\", \"madhouse\"),\n",
        "                 (\"glass\", \"magician\"),\n",
        "                 (\"boy\", \"rooster\"),\n",
        "                 (\"cushion\", \"jewel\"),\n",
        "                 (\"monk\", \"slave\"),\n",
        "                 (\"asylum\", \"cemetery\"),\n",
        "                 (\"coast\", \"forest\"),\n",
        "                 (\"grin\", \"lad\"),\n",
        "                 (\"shore\", \"woodland\"),\n",
        "                 (\"monk\", \"oracle\"), \n",
        "                 (\"boy\", \"sage\"),\n",
        "                 (\"automobile\", \"cushion\"),\n",
        "                 (\"mound\", \"shore\"),\n",
        "                 (\"lad\", \"wizard\"),\n",
        "                 (\"forest\", \"graveyard\"),\n",
        "                 (\"food\", \"rooster\"),\n",
        "                 (\"cemetery\", \"woodland\"),\n",
        "                 (\"shore\", \"voyage\"),\n",
        "                 (\"bird\", \"woodland\"),\n",
        "                 (\"coast\", \"hill\"),\n",
        "                 (\"furnace\", \"implement\"),\n",
        "                 (\"crane\", \"rooster\"),\n",
        "                 (\"hill\", \"woodland\"),\n",
        "                 (\"car\", \"journey\"),\n",
        "                 (\"cemetery\", \"mound\"),\n",
        "                 (\"glass\", \"jewel\"),\n",
        "                 (\"magician\", \"oracle\"),\n",
        "                 (\"crane\", \"implement\"),\n",
        "                 (\"brother\", \"lad\"),\n",
        "                 (\"sage\", \"wizard\"),\n",
        "                 (\"oracle\", \"sage\"),\n",
        "                 (\"bird\", \"crane\"),\n",
        "                 (\"bird\", \"cock\"),\n",
        "                 (\"food\", \"fruit\"),\n",
        "                 (\"brother\", \"monk\"),\n",
        "                 (\"asylum\", \"madhouse\"),\n",
        "                 (\"furnace\", \"stove\"),\n",
        "                 (\"magician\", \"wizard\"),\n",
        "                 (\"hill\", \"mound\"),\n",
        "                 (\"cord\", \"string\"),\n",
        "                 (\"glass\", \"tumbler\"),\n",
        "                 (\"grin\", \"smile\"), \n",
        "                 (\"serf\", \"slave\"),\n",
        "                 (\"journey\", \"voyage\"),\n",
        "                 (\"autograph\", \"signature\"),\n",
        "                 (\"coast\", \"shore\"),\n",
        "                 (\"forest\", \"woodland\"),\n",
        "                 (\"implement\", \"tool\"),\n",
        "                 (\"cock\", \"rooster\"),\n",
        "                 (\"boy\", \"lad\"),\n",
        "                 (\"cushion\", \"pillow\"),\n",
        "                 (\"cemetery\", \"graveyard\"), \n",
        "                 (\"automobile\", \"car\"),\n",
        "                 (\"midday\", \"noon\"),\n",
        "                 (\"gem\", \"jewel\")\n",
        "                 ]\n",
        "\n",
        "word_to_embedding_map = {}\n",
        "words1 = np.zeros((len(pair_of_words), 300))\n",
        "words2 = np.zeros((len(pair_of_words), 300))"
      ],
      "execution_count": 0,
      "outputs": []
    },
    {
      "cell_type": "code",
      "metadata": {
        "id": "_14_Jh5J3WEW",
        "colab_type": "code",
        "colab": {}
      },
      "source": [
        "for i, (word1, word2) in enumerate(pair_of_words):\n",
        "  if word1 not in word_to_embedding_map:\n",
        "    word_to_embedding_map[word1] = word2vec[word1]\n",
        "  \n",
        "  if word2 not in word_to_embedding_map:\n",
        "    word_to_embedding_map[word2] = word2vec[word2]\n",
        "\n",
        "  words1[i] = word2vec[word1]\n",
        "  words2[i] = word2vec[word2]"
      ],
      "execution_count": 0,
      "outputs": []
    },
    {
      "cell_type": "code",
      "metadata": {
        "id": "0euFMGMl3Oe6",
        "colab_type": "code",
        "outputId": "9c2e2710-8ef6-429d-84b8-f1c9c26bfd42",
        "colab": {
          "base_uri": "https://localhost:8080/",
          "height": 306
        }
      },
      "source": [
        "element_wise_dot = np.einsum(\"ij,ij->i\", words1, words2)\n",
        "norms1, norms2 = np.linalg.norm(words1, axis=1), np.linalg.norm(words2, axis=1)\n",
        "cosine_similarity = element_wise_dot / (norms1 * norms2)\n",
        "cosine_similarity"
      ],
      "execution_count": 7,
      "outputs": [
        {
          "output_type": "execute_result",
          "data": {
            "text/plain": [
              "array([ 1.81164421e-02,  6.27580950e-02,  2.16545145e-02,  7.32149730e-02,\n",
              "        3.46559162e-02, -2.80874218e-02,  4.92562217e-02, -2.30547151e-04,\n",
              "        5.78096250e-02,  1.38668242e-01,  2.93968170e-01,  3.72249104e-02,\n",
              "        2.84851900e-01,  1.24784413e-01,  1.91462271e-01,  9.24352137e-02,\n",
              "        2.36097900e-01,  2.48018869e-01,  1.16909462e-01,  3.03540362e-01,\n",
              "        1.65956929e-01,  1.33585848e-01,  1.31641308e-01,  3.30230061e-01,\n",
              "        2.29011213e-01,  1.18306467e-01,  3.81925048e-01,  2.04348489e-01,\n",
              "        3.40242517e-01,  1.61157755e-01,  2.34294824e-02,  2.36072140e-01,\n",
              "        2.73590949e-01,  9.84962503e-02,  2.06040934e-01,  1.74493590e-01,\n",
              "        2.52207744e-01,  2.31861539e-02,  3.59592489e-01,  3.38115044e-01,\n",
              "        4.42570724e-01,  3.02861911e-01,  3.62902420e-01,  3.74092599e-01,\n",
              "        2.23200200e-01,  2.52539301e-01,  6.08391065e-01,  4.86349616e-01,\n",
              "        4.62203262e-01,  1.89512521e-01,  4.67516601e-01,  8.60401000e-01,\n",
              "        4.49844203e-01,  6.83085260e-01,  3.13211180e-01,  5.08366740e-01,\n",
              "        6.41799021e-01,  2.12342274e-01,  4.78678787e-01,  5.88615935e-01,\n",
              "        2.51615165e-01,  6.42480643e-01,  5.83836758e-01,  5.52740644e-01,\n",
              "        6.21081062e-01])"
            ]
          },
          "metadata": {
            "tags": []
          },
          "execution_count": 7
        }
      ]
    },
    {
      "cell_type": "code",
      "metadata": {
        "id": "kZyzwFmLHZJY",
        "colab_type": "code",
        "colab": {
          "base_uri": "https://localhost:8080/",
          "height": 1000
        },
        "outputId": "1f64a0e0-b447-42a5-f1e8-d6b4b59f3c49"
      },
      "source": [
        "for i in range(len(cosine_similarity)):\n",
        "  word1, word2 = pair_of_words[i]\n",
        "  cosine_sim = cosine_similarity[i]\n",
        "  print(f\"{word1}; {word2}: {cosine_sim}\")"
      ],
      "execution_count": 8,
      "outputs": [
        {
          "output_type": "stream",
          "text": [
            "cord; smile: 0.018116442126818393\n",
            "rooster; voyage: 0.06275809503788346\n",
            "noon; string: 0.02165451453599645\n",
            "fruit; furnace: 0.07321497303845254\n",
            "autograph; shore: 0.034655916200793474\n",
            "automobile; wizard: -0.02808742179782148\n",
            "mount; stove: 0.049256221719463845\n",
            "grin; implement: -0.00023054715138644667\n",
            "asylum; fruit: 0.05780962502651894\n",
            "asylum; monk: 0.13866824166204164\n",
            "graveyard; madhouse: 0.29396817045820234\n",
            "glass; magician: 0.037224910380892116\n",
            "boy; rooster: 0.2848518997190719\n",
            "cushion; jewel: 0.12478441292362313\n",
            "monk; slave: 0.19146227120982814\n",
            "asylum; cemetery: 0.09243521370466698\n",
            "coast; forest: 0.23609790007924333\n",
            "grin; lad: 0.2480188694136008\n",
            "shore; woodland: 0.11690946166507768\n",
            "monk; oracle: 0.30354036186223615\n",
            "boy; sage: 0.16595692925794378\n",
            "automobile; cushion: 0.13358584792553976\n",
            "mound; shore: 0.13164130789280562\n",
            "lad; wizard: 0.33023006071411043\n",
            "forest; graveyard: 0.22901121328397625\n",
            "food; rooster: 0.11830646680620911\n",
            "cemetery; woodland: 0.38192504756514994\n",
            "shore; voyage: 0.20434848891292628\n",
            "bird; woodland: 0.3402425169680229\n",
            "coast; hill: 0.16115775478766303\n",
            "furnace; implement: 0.023429482361675774\n",
            "crane; rooster: 0.2360721403228397\n",
            "hill; woodland: 0.27359094869895173\n",
            "car; journey: 0.09849625033300127\n",
            "cemetery; mound: 0.20604093400134227\n",
            "glass; jewel: 0.17449359032063172\n",
            "magician; oracle: 0.25220774378294275\n",
            "crane; implement: 0.023186153923084922\n",
            "brother; lad: 0.35959248937893756\n",
            "sage; wizard: 0.338115043980551\n",
            "oracle; sage: 0.44257072376116036\n",
            "bird; crane: 0.30286191057859796\n",
            "bird; cock: 0.36290242005508533\n",
            "food; fruit: 0.3740925987787312\n",
            "brother; monk: 0.22320019970585045\n",
            "asylum; madhouse: 0.25253930133545643\n",
            "furnace; stove: 0.6083910645324063\n",
            "magician; wizard: 0.4863496163040532\n",
            "hill; mound: 0.4622032618800124\n",
            "cord; string: 0.18951252054609116\n",
            "glass; tumbler: 0.46751660119705624\n",
            "grin; smile: 0.8604010001094325\n",
            "serf; slave: 0.44984420342273834\n",
            "journey; voyage: 0.6830852596999198\n",
            "autograph; signature: 0.3132111796287731\n",
            "coast; shore: 0.5083667401271162\n",
            "forest; woodland: 0.6417990211906214\n",
            "implement; tool: 0.21234227421379986\n",
            "cock; rooster: 0.47867878710642686\n",
            "boy; lad: 0.5886159347560659\n",
            "cushion; pillow: 0.2516151650781008\n",
            "cemetery; graveyard: 0.6424806430243765\n",
            "automobile; car: 0.5838367575984194\n",
            "midday; noon: 0.552740644148218\n",
            "gem; jewel: 0.6210810621214565\n"
          ],
          "name": "stdout"
        }
      ]
    },
    {
      "cell_type": "code",
      "metadata": {
        "id": "rYj4gKaE-eao",
        "colab_type": "code",
        "colab": {}
      },
      "source": [
        "human_similarity = np.array([0.02, 0.04, 0.04, 0.05, 0.06, 0.11, 0.14, 0.18, 0.19, 0.39, 0.42, 0.44, 0.44,\n",
        "                             0.45, 0.57, 0.79, 0.85, 0.88, 0.90, 0.91, 0.96, 0.97, 0.97, 0.99, 1.00, 1.09, \n",
        "                             1.18, 1.22, 1.24, 1.26, 1.37, 1.41, 1.48, 1.55, 1.69, 1.78, 1.82, 2.37, 2.41, \n",
        "                             2.46, 2.61, 2.63, 2.63, 2.69, 2.74, 3.04, 3.11, 3.21, 3.29, 3.41, 3.45, 3.46, \n",
        "                             3.46, 3.58, 3.59, 3.60, 3.65, 3.66, 3.68, 3.82, 3.84, 3.88, 3.92, 3.94, 3.94])"
      ],
      "execution_count": 0,
      "outputs": []
    },
    {
      "cell_type": "code",
      "metadata": {
        "id": "CoDRfWye_9cX",
        "colab_type": "code",
        "outputId": "7141daa2-8922-452c-b5ea-cae65f563c15",
        "colab": {
          "base_uri": "https://localhost:8080/",
          "height": 34
        }
      },
      "source": [
        "# Pearson correlation coefficient\n",
        "cosine_mean = cosine_similarity.mean()\n",
        "human_mean = human_similarity.mean()\n",
        "cosine_std = cosine_similarity.std()\n",
        "human_std = human_similarity.std()\n",
        "pearson_correlation = ((cosine_similarity - cosine_mean) * (human_similarity - human_mean)).sum() / (cosine_std * human_std)\n",
        "\n",
        "covariance = ((cosine_similarity - cosine_mean) * (human_similarity - human_mean)).sum()\n",
        "std = np.sqrt(((cosine_similarity - cosine_mean) ** 2).sum()) * np.sqrt(((human_similarity - human_mean) ** 2).sum())\n",
        "pearson_correlation = covariance / std\n",
        "pearson_correlation"
      ],
      "execution_count": 10,
      "outputs": [
        {
          "output_type": "execute_result",
          "data": {
            "text/plain": [
              "0.7838683898261164"
            ]
          },
          "metadata": {
            "tags": []
          },
          "execution_count": 10
        }
      ]
    },
    {
      "cell_type": "code",
      "metadata": {
        "id": "4t1nrZsAAugR",
        "colab_type": "code",
        "outputId": "da838416-ca37-4180-9a8c-774fd1e9af8a",
        "colab": {
          "base_uri": "https://localhost:8080/",
          "height": 34
        }
      },
      "source": [
        "# We will extract the subset of the testing data that can be used by both the \n",
        "# LSA and word2vec models\n",
        "lsa_word_file = open(\"wti.txt\").readlines()[:]\n",
        "lsa_words = {}\n",
        "for line in lsa_word_file:\n",
        "  word, i = line.strip().split()\n",
        "  lsa_words[word] = int(i)\n",
        "word2vec_words = set(word2vec.index2word)\n",
        "\n",
        "testing_examples = []\n",
        "with open(\"word-test.v1.txt\") as test_file:\n",
        "  test_file = test_file.readlines()[2:]    # first 2 lines irrelevant\n",
        "  \n",
        "  for line in test_file:\n",
        "    line = line.strip().split()\n",
        "    if len(line) == 4:\n",
        "      start, subtract, add, expected = line\n",
        "      if all(word in lsa_words \n",
        "             for word in [start, subtract, add, expected]) and \\\n",
        "         all(word in word2vec_words \n",
        "             for word in [start, subtract, add, expected]):\n",
        "        testing_examples.append((start, subtract, add, expected))\n",
        "\n",
        "print(\"Number of testing examples:\", len(testing_examples)) "
      ],
      "execution_count": 11,
      "outputs": [
        {
          "output_type": "stream",
          "text": [
            "Number of testing examples: 2082\n"
          ],
          "name": "stdout"
        }
      ]
    },
    {
      "cell_type": "code",
      "metadata": {
        "id": "4QCYF-OiAxSA",
        "colab_type": "code",
        "outputId": "40f65d1a-170b-4a3f-b7bf-8978d46f4b23",
        "colab": {
          "base_uri": "https://localhost:8080/",
          "height": 187
        }
      },
      "source": [
        "# 5 first and 5 last training examples:\n",
        "some_examples = testing_examples[:5] + testing_examples[-5:]\n",
        "for start, subtract, add, expected in some_examples:\n",
        "  print(f\"{start} - {subtract} + {add} = {expected}\")"
      ],
      "execution_count": 12,
      "outputs": [
        {
          "output_type": "stream",
          "text": [
            "boy - girl + brother = sister\n",
            "boy - girl + father = mother\n",
            "boy - girl + he = she\n",
            "boy - girl + his = her\n",
            "boy - girl + husband = wife\n",
            "write - writes + provide = provides\n",
            "write - writes + say = says\n",
            "write - writes + see = sees\n",
            "write - writes + think = thinks\n",
            "write - writes + work = works\n"
          ],
          "name": "stdout"
        }
      ]
    },
    {
      "cell_type": "code",
      "metadata": {
        "id": "oAtEysB-VfEC",
        "colab_type": "code",
        "colab": {}
      },
      "source": [
        "# we know extract the word2vec and LSA embeddings for our words\n",
        "# we first need to load the LSA word embeddings file extracted from the exercise\n",
        "lsa_embeddings = np.load(\"ppmi_dim300.npy\")\n",
        "word2vec_embeddings = word2vec\n",
        "\n",
        "start_vecs_lsa = np.zeros((2082, 300))\n",
        "sub_vecs_lsa = np.zeros((2082, 300))\n",
        "add_vecs_lsa = np.zeros((2082, 300))\n",
        "expected_vecs_lsa = np.zeros((2082, 300))\n",
        "\n",
        "for i, (start, subtract, add, expected) in enumerate(testing_examples):\n",
        "  # extract LSA word embeddings\n",
        "  # lsa_words is a map of word -> idx in the lsa_embeddings model\n",
        "  start_lsa = lsa_embeddings[lsa_words[start]]\n",
        "  sub_lsa = lsa_embeddings[lsa_words[subtract]]\n",
        "  add_lsa = lsa_embeddings[lsa_words[add]]\n",
        "  expected_lsa = lsa_embeddings[lsa_words[expected]]\n",
        "\n",
        "  start_vecs_lsa[i] = start_lsa\n",
        "  sub_vecs_lsa[i] = sub_lsa\n",
        "  add_vecs_lsa[i] = add_lsa\n",
        "  expected_vecs_lsa[i] = expected_lsa"
      ],
      "execution_count": 0,
      "outputs": []
    },
    {
      "cell_type": "code",
      "metadata": {
        "id": "-hwUxtgde5FB",
        "colab_type": "code",
        "colab": {
          "base_uri": "https://localhost:8080/",
          "height": 88
        },
        "outputId": "45f40018-ac27-498f-fd0c-f6905ad8229b"
      },
      "source": [
        "total = 2082\n",
        "correct = 0\n",
        "\n",
        "for a, b, c, d in testing_examples:\n",
        "  pred = word2vec_embeddings.most_similar(positive=[b, c], negative=[a], topn=1)[0][0]\n",
        "  if pred == d:\n",
        "    correct += 1\n",
        "\n",
        "print(\"Word2Vec analogy accuracy:\", correct / total)"
      ],
      "execution_count": 14,
      "outputs": [
        {
          "output_type": "stream",
          "text": [
            "/usr/local/lib/python3.6/dist-packages/gensim/matutils.py:737: FutureWarning: Conversion of the second argument of issubdtype from `int` to `np.signedinteger` is deprecated. In future, it will be treated as `np.int64 == np.dtype(int).type`.\n",
            "  if np.issubdtype(vec.dtype, np.int):\n"
          ],
          "name": "stderr"
        },
        {
          "output_type": "stream",
          "text": [
            "Word2Vec analogy accuracy: 0.6853986551392891\n"
          ],
          "name": "stdout"
        }
      ]
    },
    {
      "cell_type": "code",
      "metadata": {
        "id": "d0TkkIZG-byg",
        "colab_type": "code",
        "colab": {}
      },
      "source": [
        "idx_to_word_lsa = {lsa_words[word]: word for word in lsa_words}\n",
        "\n",
        "def unit_vec(vecs, axis=1):\n",
        "  return vecs / np.linalg.norm(vecs, axis=axis).reshape(-1, 1)\n",
        "\n",
        "\n",
        "def most_similar(positives1, positives2, negatives, vocab):\n",
        "  positives1 = unit_vec(positives1)\n",
        "  positives2 = unit_vec(positives2)\n",
        "  negatives = -1 * unit_vec(negatives)\n",
        "  \n",
        "  mean = np.concatenate((positives1, positives2, negatives), axis=1).reshape(positives1.shape[0], 3, -1)\n",
        "  mean = mean.mean(axis=1)\n",
        "  mean = (mean / np.linalg.norm(mean)).astype(np.float32)\n",
        "\n",
        "  dists = mean @ unit_vec(vocab).T\n",
        "  best = np.argmin(dists, axis=1).reshape(-1)\n",
        "  \n",
        "  return [idx_to_word_lsa[i] for i in best]"
      ],
      "execution_count": 0,
      "outputs": []
    },
    {
      "cell_type": "code",
      "metadata": {
        "id": "AuDFD9thCdWh",
        "colab_type": "code",
        "colab": {}
      },
      "source": [
        "results_lsa = most_similar(positives1=sub_vecs_lsa, positives2=add_vecs_lsa, negatives=start_vecs_lsa, vocab=lsa_embeddings)"
      ],
      "execution_count": 0,
      "outputs": []
    },
    {
      "cell_type": "code",
      "metadata": {
        "id": "JEapF5DAjGeA",
        "colab_type": "code",
        "colab": {
          "base_uri": "https://localhost:8080/",
          "height": 34
        },
        "outputId": "3511dc0a-58ff-415c-e4ec-c600c03c0ff7"
      },
      "source": [
        "accuracy = [1 if results_lsa[i] == testing_examples[i][-1] else 0 for i in range(len(results_lsa))]\n",
        "sum(accuracy) / len(accuracy)"
      ],
      "execution_count": 17,
      "outputs": [
        {
          "output_type": "execute_result",
          "data": {
            "text/plain": [
              "0.0"
            ]
          },
          "metadata": {
            "tags": []
          },
          "execution_count": 17
        }
      ]
    },
    {
      "cell_type": "markdown",
      "metadata": {
        "id": "vvUY8PkFCwAR",
        "colab_type": "text"
      },
      "source": [
        "# Part 2: Diachronic word embedding"
      ]
    },
    {
      "cell_type": "code",
      "metadata": {
        "id": "nA9QWDTwxtKL",
        "colab_type": "code",
        "colab": {}
      },
      "source": [
        "diachronic = pickle.load(open(\"data.pkl\", \"rb\"))"
      ],
      "execution_count": 0,
      "outputs": []
    },
    {
      "cell_type": "code",
      "metadata": {
        "id": "_kmLWyboDR7E",
        "colab_type": "code",
        "colab": {
          "base_uri": "https://localhost:8080/",
          "height": 187
        },
        "outputId": "81f55b3a-d5a0-4f80-c2fe-45750d2d2814"
      },
      "source": [
        "# some words\n",
        "print(\"\\n\".join(diachronic[\"w\"][:10]))"
      ],
      "execution_count": 19,
      "outputs": [
        {
          "output_type": "stream",
          "text": [
            "time\n",
            "man\n",
            "years\n",
            "part\n",
            "way\n",
            "life\n",
            "people\n",
            "work\n",
            "world\n",
            "states\n"
          ],
          "name": "stdout"
        }
      ]
    },
    {
      "cell_type": "code",
      "metadata": {
        "id": "_oNPWKiSDXWn",
        "colab_type": "code",
        "colab": {
          "base_uri": "https://localhost:8080/",
          "height": 34
        },
        "outputId": "514ee1f5-c2fe-44e8-faa7-227d080b7e66"
      },
      "source": [
        "dia_embeddings = diachronic[\"E\"]\n",
        "dia_embeddings = np.array(dia_embeddings)\n",
        "dia_embeddings.shape"
      ],
      "execution_count": 20,
      "outputs": [
        {
          "output_type": "execute_result",
          "data": {
            "text/plain": [
              "(2000, 10, 300)"
            ]
          },
          "metadata": {
            "tags": []
          },
          "execution_count": 20
        }
      ]
    },
    {
      "cell_type": "code",
      "metadata": {
        "id": "lb4WNr0zbTFf",
        "colab_type": "code",
        "colab": {}
      },
      "source": [
        "def display_info(change_between_first_last_step, change_through_each_time_step, criteria, extreme=20):\n",
        "  print(f\"Criteria: {criteria}\")\n",
        "  average_change = change_through_each_time_step.mean(axis=1)\n",
        "  ranked_average_change = np.argsort(average_change)\n",
        "  ranked_first_to_last_change = np.argsort(change_between_first_last_step)\n",
        "\n",
        "  top20_avg = ranked_average_change[-extreme:]\n",
        "  top20_avg = [diachronic[\"w\"][i] for i in top20_avg][::-1]\n",
        "  bottom20_avg = ranked_average_change[:extreme]\n",
        "  bottom20_avg = [diachronic[\"w\"][i] for i in bottom20_avg]\n",
        "\n",
        "  top20_first_to_last = ranked_first_to_last_change[-extreme:]\n",
        "  top20_first_to_last = [diachronic[\"w\"][i] for i in top20_first_to_last][::-1]\n",
        "  bottom20_first_to_last = ranked_first_to_last_change[:extreme]\n",
        "  bottom20_first_to_last = [diachronic[\"w\"][i] for i in bottom20_first_to_last]\n",
        "\n",
        "  print(\"Change in meaning on average through each decade:\")\n",
        "  print(\"Top {0}:\\n{1}\".format(extreme, '\\n'.join(top20_avg)))\n",
        "  print(\"Bottom {0}:\\n{1}\".format(extreme, '\\n'.join(bottom20_avg)))\n",
        "\n",
        "  print(\"Change in meaning from first decade to last decade:\")\n",
        "  print(\"Top {0}:\\n{1}\".format(extreme, '\\n'.join(top20_first_to_last)))\n",
        "  print(\"Bottom {0}:\\n{1}\".format(extreme, '\\n'.join(bottom20_first_to_last)))"
      ],
      "execution_count": 0,
      "outputs": []
    },
    {
      "cell_type": "markdown",
      "metadata": {
        "id": "lC59ADEyMZD0",
        "colab_type": "text"
      },
      "source": [
        "## Cosine distance"
      ]
    },
    {
      "cell_type": "code",
      "metadata": {
        "id": "orhE1rS3MgNZ",
        "colab_type": "code",
        "colab": {}
      },
      "source": [
        "# we will quantify semantic change by using cosine distance to measure how far \n",
        "# apart vectors of a word are at different decades\n",
        "def diachronic_cosine_distance(data):\n",
        "  # processing the entirety of our vocab\n",
        "  dot = np.einsum(\"ijk,ilk->ijl\", data, data)\n",
        "  norm = np.linalg.norm(data, axis=2)\n",
        "  norm_prod = np.einsum(\"ij,ik->ijk\", norm, norm)\n",
        "  distances = 1 - (dot / norm_prod)\n",
        "  # distances[w, t, t'] = distance between vector of word w in time t and time t'\n",
        "  return distances"
      ],
      "execution_count": 0,
      "outputs": []
    },
    {
      "cell_type": "code",
      "metadata": {
        "id": "2o5GQ6DMUwfB",
        "colab_type": "code",
        "colab": {
          "base_uri": "https://localhost:8080/",
          "height": 68
        },
        "outputId": "1f72bdef-afae-48b8-a641-d2521df5e973"
      },
      "source": [
        "distances = diachronic_cosine_distance(dia_embeddings)\n",
        "distances.shape"
      ],
      "execution_count": 23,
      "outputs": [
        {
          "output_type": "stream",
          "text": [
            "/usr/local/lib/python3.6/dist-packages/ipykernel_launcher.py:6: RuntimeWarning: invalid value encountered in true_divide\n",
            "  \n"
          ],
          "name": "stderr"
        },
        {
          "output_type": "execute_result",
          "data": {
            "text/plain": [
              "(2000, 10, 10)"
            ]
          },
          "metadata": {
            "tags": []
          },
          "execution_count": 23
        }
      ]
    },
    {
      "cell_type": "code",
      "metadata": {
        "id": "0qvPblxzU0Ws",
        "colab_type": "code",
        "colab": {
          "base_uri": "https://localhost:8080/",
          "height": 51
        },
        "outputId": "582c8be8-a7e2-42b4-ebc8-5eeb049a4b9c"
      },
      "source": [
        "through_time_cos = np.diagonal(distances, offset=1, axis1=1, axis2=2)\n",
        "through_time_cos[0]"
      ],
      "execution_count": 24,
      "outputs": [
        {
          "output_type": "execute_result",
          "data": {
            "text/plain": [
              "array([0.31214306, 0.32058121, 0.35237205, 0.33332696, 0.37701513,\n",
              "       0.38991383, 0.35640704, 0.31868191, 0.35110625])"
            ]
          },
          "metadata": {
            "tags": []
          },
          "execution_count": 24
        }
      ]
    },
    {
      "cell_type": "code",
      "metadata": {
        "id": "LxdwvczoVNGT",
        "colab_type": "code",
        "colab": {
          "base_uri": "https://localhost:8080/",
          "height": 34
        },
        "outputId": "18656c26-d565-4031-c60f-8bb7306528fa"
      },
      "source": [
        "first_last_cos = distances[:, 0, -1]\n",
        "first_last_cos[0]"
      ],
      "execution_count": 25,
      "outputs": [
        {
          "output_type": "execute_result",
          "data": {
            "text/plain": [
              "0.5497114487693748"
            ]
          },
          "metadata": {
            "tags": []
          },
          "execution_count": 25
        }
      ]
    },
    {
      "cell_type": "code",
      "metadata": {
        "id": "8gW53NF1ZOPA",
        "colab_type": "code",
        "colab": {
          "base_uri": "https://localhost:8080/",
          "height": 1000
        },
        "outputId": "1a4528ac-d592-4052-8ec4-0de21600b11f"
      },
      "source": [
        "display_info(first_last_cos, through_time_cos, \"Cosine Distance\")"
      ],
      "execution_count": 26,
      "outputs": [
        {
          "output_type": "stream",
          "text": [
            "Criteria: Cosine Distance\n",
            "Change in meaning on average through each decade:\n",
            "Top 20:\n",
            "shri\n",
            "skills\n",
            "ml\n",
            "mcgraw\n",
            "techniques\n",
            "computer\n",
            "harper\n",
            "jones\n",
            "sector\n",
            "berkeley\n",
            "wiley\n",
            "baltimore\n",
            "martin\n",
            "princeton\n",
            "wilson\n",
            "adams\n",
            "therapy\n",
            "johnson\n",
            "goals\n",
            "haven\n",
            "Bottom 20:\n",
            "april\n",
            "miles\n",
            "november\n",
            "september\n",
            "january\n",
            "december\n",
            "february\n",
            "university\n",
            "vessels\n",
            "trees\n",
            "cent\n",
            "solution\n",
            "july\n",
            "decrease\n",
            "october\n",
            "temperature\n",
            "buildings\n",
            "june\n",
            "patients\n",
            "blood\n",
            "Change in meaning from first decade to last decade:\n",
            "Top 20:\n",
            "mcgraw\n",
            "skills\n",
            "ml\n",
            "techniques\n",
            "programs\n",
            "objectives\n",
            "computer\n",
            "radio\n",
            "sector\n",
            "goals\n",
            "approach\n",
            "van\n",
            "shri\n",
            "media\n",
            "impact\n",
            "perspective\n",
            "patterns\n",
            "berkeley\n",
            "shift\n",
            "film\n",
            "Bottom 20:\n",
            "april\n",
            "june\n",
            "november\n",
            "february\n",
            "years\n",
            "october\n",
            "increase\n",
            "january\n",
            "century\n",
            "months\n",
            "daughter\n",
            "december\n",
            "god\n",
            "september\n",
            "feet\n",
            "week\n",
            "evening\n",
            "door\n",
            "payment\n",
            "miles\n"
          ],
          "name": "stdout"
        }
      ]
    },
    {
      "cell_type": "markdown",
      "metadata": {
        "id": "HQpjNNfCj6Vz",
        "colab_type": "text"
      },
      "source": [
        "## k-Nearest Neighbors"
      ]
    },
    {
      "cell_type": "code",
      "metadata": {
        "id": "MuyG8-rCaapY",
        "colab_type": "code",
        "colab": {}
      },
      "source": [
        "# here, we quantify the semantic drift of a word by measuring the cosine \n",
        "# distance of the average vector between k nearest neighbors of the word\n",
        "# vector between 2 time points\n",
        "def knn_3dimensional(vectors, k):\n",
        "  vectors = vectors.transpose(1, 0, 2)\n",
        "  num_decades = vectors.shape[0]\n",
        "  num_words = num_neighbors + 1\n",
        "  dimension = vectors.shape[-1]\n",
        "\n",
        "  targets = vectors[:, :, None]\n",
        "  neighbors = vectors[:, None]\n",
        "  diff = targets - neighbors\n",
        "  dist = (diff ** 2).sum(axis=3)\n",
        "\n",
        "  ranking = dist.argsort()\n",
        "\n",
        "  # at position 1 is the vector itself so obviously the vector itself\n",
        "  # would be included in its k nearest neighbors, we want to exclude it\n",
        "  indices = ranking[:, :, 1: k + 1].reshape(-1)     # TODO: need offset\n",
        "  vectors = vectors.reshape(-1, vectors.shape[-1])\n",
        "  chosen = vectors[indices].reshape(num_decades, num_words, k, dimension)\n",
        "\n",
        "  return chosen\n",
        "\n",
        "def knn_2dimensional(word, neighbors, k):\n",
        "  decs, dim = word.shape\n",
        "  neighs = neighbors.shape[1]\n",
        "\n",
        "  diff = word[:, None] - neighbors\n",
        "  dist = (diff ** 2).sum(axis=2)\n",
        "  rank = dist.argsort()\n",
        "  idx = rank[:, 1:k+1]\n",
        "  offset_idx = idx + np.arange(0, decs * neighs, neighs).reshape(-1, 1)\n",
        "  chosen = neighbors.reshape(-1, dim)[offset_idx.reshape(-1)]\n",
        "\n",
        "  return chosen.reshape(decs, k, dim)\n",
        "\n",
        "def knn(vectors, k, sequential=True, verbose=False):\n",
        "  num_neighbors = vectors.shape[0] - 1     # number of words - 1\n",
        "  if k > num_neighbors:\n",
        "    raise ValueError(\"k should be at most the number of neighbors\")\n",
        "\n",
        "  if not sequential:\n",
        "    return knn_3dimensional(word, k) \n",
        "  else:\n",
        "    final = np.zeros((vectors.shape[1], vectors.shape[0], k, vectors.shape[2]))\n",
        "    for i in range(vectors.shape[0]):\n",
        "      if verbose:\n",
        "        print(\"Computing kNN for word number\", i + 1)\n",
        "      word = vectors[i]\n",
        "      neighbors = vectors.transpose(1, 0, 2)\n",
        "      chosen = knn_2dimensional(word, neighbors, k)\n",
        "      final[:, i] = chosen\n",
        "\n",
        "  return final\n",
        "\n",
        "def neighbors_shift(neighbors):\n",
        "  neighbors_mean = neighbors.mean(axis=2).transpose(1, 0, 2)\n",
        "  return diachronic_cosine_distance(neighbors_mean)"
      ],
      "execution_count": 0,
      "outputs": []
    },
    {
      "cell_type": "code",
      "metadata": {
        "id": "J3urJl7fa_l6",
        "colab_type": "code",
        "colab": {}
      },
      "source": [
        "neighbors_distances = knn(dia_embeddings, 100)\n",
        "neighbors_changes = neighbors_shift(neighbors_distances)\n",
        "through_time_knn = np.diagonal(neighbors_changes, offset=1, axis1=1, axis2=2)\n",
        "first_last_knn = neighbors_changes[:, 0, -1]"
      ],
      "execution_count": 0,
      "outputs": []
    },
    {
      "cell_type": "code",
      "metadata": {
        "id": "dY1SAnmfcPSS",
        "colab_type": "code",
        "colab": {
          "base_uri": "https://localhost:8080/",
          "height": 1000
        },
        "outputId": "4bfcb3f8-d8de-4b7d-fe93-a1f4fb2e2fee"
      },
      "source": [
        "display_info(first_last_knn, through_time_knn, \"Average kNN Cosine Distance\")"
      ],
      "execution_count": 29,
      "outputs": [
        {
          "output_type": "stream",
          "text": [
            "Criteria: Average kNN Cosine Distance\n",
            "Change in meaning on average through each decade:\n",
            "Top 20:\n",
            "shri\n",
            "computer\n",
            "strike\n",
            "ml\n",
            "place\n",
            "mcgraw\n",
            "techniques\n",
            "skills\n",
            "marks\n",
            "instance\n",
            "mark\n",
            "game\n",
            "rest\n",
            "succession\n",
            "part\n",
            "order\n",
            "search\n",
            "fashion\n",
            "sector\n",
            "sign\n",
            "Bottom 20:\n",
            "william\n",
            "hydrogen\n",
            "coast\n",
            "islands\n",
            "chicago\n",
            "payment\n",
            "velocity\n",
            "earl\n",
            "boston\n",
            "oxygen\n",
            "university\n",
            "continent\n",
            "dioxide\n",
            "ions\n",
            "san\n",
            "daughter\n",
            "philadelphia\n",
            "carbon\n",
            "lake\n",
            "density\n",
            "Change in meaning from first decade to last decade:\n",
            "Top 20:\n",
            "ml\n",
            "approach\n",
            "radio\n",
            "signal\n",
            "objectives\n",
            "sector\n",
            "computer\n",
            "film\n",
            "impact\n",
            "mcgraw\n",
            "center\n",
            "release\n",
            "host\n",
            "media\n",
            "goals\n",
            "programs\n",
            "techniques\n",
            "skills\n",
            "focus\n",
            "assessment\n",
            "Bottom 20:\n",
            "profits\n",
            "thomas\n",
            "taxes\n",
            "payment\n",
            "velocity\n",
            "purchase\n",
            "coast\n",
            "increase\n",
            "acids\n",
            "san\n",
            "assets\n",
            "oxygen\n",
            "shares\n",
            "loan\n",
            "richard\n",
            "fluid\n",
            "acid\n",
            "money\n",
            "desert\n",
            "increases\n"
          ],
          "name": "stdout"
        }
      ]
    },
    {
      "cell_type": "markdown",
      "metadata": {
        "id": "gdbhVl6dv-6W",
        "colab_type": "text"
      },
      "source": [
        "## Euclidean Distance"
      ]
    },
    {
      "cell_type": "code",
      "metadata": {
        "id": "XrXKtfAdos-B",
        "colab_type": "code",
        "colab": {}
      },
      "source": [
        "def diachronic_euclidean_distance(data):\n",
        "  diff = data[:, :, None] - data[:, None, :]\n",
        "  dist = (diff ** 2).sum(axis=3)\n",
        "  return dist"
      ],
      "execution_count": 0,
      "outputs": []
    },
    {
      "cell_type": "code",
      "metadata": {
        "id": "_YweMKam0okl",
        "colab_type": "code",
        "colab": {}
      },
      "source": [
        "euc_distances = diachronic_euclidean_distance(dia_embeddings)\n",
        "through_time_euc = np.diagonal(euc_distances, offset=1, axis1=1, axis2=2)\n",
        "first_last_euc = euc_distances[:, 0, -1]"
      ],
      "execution_count": 0,
      "outputs": []
    },
    {
      "cell_type": "code",
      "metadata": {
        "id": "vUVsh9oN0u8w",
        "colab_type": "code",
        "colab": {
          "base_uri": "https://localhost:8080/",
          "height": 1000
        },
        "outputId": "a97abd5d-6acf-484b-a4de-88eeee3834e6"
      },
      "source": [
        "display_info(first_last_euc, through_time_euc, \"Euclidean Distance\")"
      ],
      "execution_count": 32,
      "outputs": [
        {
          "output_type": "stream",
          "text": [
            "Criteria: Euclidean Distance\n",
            "Change in meaning on average through each decade:\n",
            "Top 20:\n",
            "harper\n",
            "jones\n",
            "sector\n",
            "berkeley\n",
            "wiley\n",
            "baltimore\n",
            "martin\n",
            "princeton\n",
            "wilson\n",
            "adams\n",
            "therapy\n",
            "johnson\n",
            "goals\n",
            "haven\n",
            "philip\n",
            "evaluation\n",
            "j\n",
            "mcgraw\n",
            "publications\n",
            "stanford\n",
            "Bottom 20:\n",
            "april\n",
            "miles\n",
            "november\n",
            "september\n",
            "january\n",
            "december\n",
            "february\n",
            "university\n",
            "vessels\n",
            "trees\n",
            "cent\n",
            "solution\n",
            "july\n",
            "decrease\n",
            "october\n",
            "temperature\n",
            "buildings\n",
            "june\n",
            "patients\n",
            "blood\n",
            "Change in meaning from first decade to last decade:\n",
            "Top 20:\n",
            "programs\n",
            "objectives\n",
            "computer\n",
            "radio\n",
            "sector\n",
            "goals\n",
            "approach\n",
            "van\n",
            "shri\n",
            "media\n",
            "impact\n",
            "perspective\n",
            "patterns\n",
            "berkeley\n",
            "shift\n",
            "film\n",
            "assessment\n",
            "stanford\n",
            "challenge\n",
            "therapy\n",
            "Bottom 20:\n",
            "april\n",
            "june\n",
            "november\n",
            "february\n",
            "years\n",
            "october\n",
            "increase\n",
            "january\n",
            "century\n",
            "months\n",
            "daughter\n",
            "december\n",
            "god\n",
            "september\n",
            "feet\n",
            "week\n",
            "evening\n",
            "door\n",
            "payment\n",
            "miles\n"
          ],
          "name": "stdout"
        }
      ]
    },
    {
      "cell_type": "markdown",
      "metadata": {
        "id": "4vK35c872lL_",
        "colab_type": "text"
      },
      "source": [
        "## Intercorrelations"
      ]
    },
    {
      "cell_type": "code",
      "metadata": {
        "id": "jGJjME5T2okp",
        "colab_type": "code",
        "colab": {
          "base_uri": "https://localhost:8080/",
          "height": 374
        },
        "outputId": "6391cdfa-0287-4dae-dcbe-45f2c6ec19ca"
      },
      "source": [
        "p_coefficient = np.zeros((3, 3))\n",
        "results = [first_last_cos, first_last_knn, first_last_euc]\n",
        "\n",
        "i_to_m = {0: \"cos\", 1: \"knn\", 2: \"euc\"}\n",
        "\n",
        "for i in range(3):\n",
        "  for j in range(3):\n",
        "    ignore = None\n",
        "    if not i or not j:\n",
        "      ignore = np.where(np.isfinite(first_last_cos) == False)\n",
        "    \n",
        "    metric1 = results[i]\n",
        "    metric2 = results[j]\n",
        "    if ignore is not None:\n",
        "      metric1 = np.delete(metric1, ignore)\n",
        "      metric2 = np.delete(metric2, ignore)\n",
        "\n",
        "    print(f\"computing correlation between {i_to_m[i]} and {i_to_m[j]}\")\n",
        "    coeff = pearsonr(metric1, metric2)[0]\n",
        "    print(\"got:\", coeff)\n",
        "    p_coefficient[i, j] = coeff\n",
        "\n",
        "p_coefficient"
      ],
      "execution_count": 33,
      "outputs": [
        {
          "output_type": "stream",
          "text": [
            "computing correlation between cos and cos\n",
            "got: 1.0\n",
            "computing correlation between cos and knn\n",
            "got: 0.5120349769366228\n",
            "computing correlation between cos and euc\n",
            "got: 1.0\n",
            "computing correlation between knn and cos\n",
            "got: 0.5120349769366228\n",
            "computing correlation between knn and knn\n",
            "got: 1.0\n",
            "computing correlation between knn and euc\n",
            "got: 0.494665465899663\n",
            "computing correlation between euc and cos\n",
            "got: 1.0\n",
            "computing correlation between euc and knn\n",
            "got: 0.494665465899663\n",
            "computing correlation between euc and euc\n",
            "got: 1.0\n"
          ],
          "name": "stdout"
        },
        {
          "output_type": "execute_result",
          "data": {
            "text/plain": [
              "array([[1.        , 0.51203498, 1.        ],\n",
              "       [0.51203498, 1.        , 0.49466547],\n",
              "       [1.        , 0.49466547, 1.        ]])"
            ]
          },
          "metadata": {
            "tags": []
          },
          "execution_count": 33
        }
      ]
    },
    {
      "cell_type": "code",
      "metadata": {
        "id": "iFa8Cayzny7-",
        "colab_type": "code",
        "colab": {
          "base_uri": "https://localhost:8080/",
          "height": 1000
        },
        "outputId": "6eac8ef0-7394-4d12-c9de-086eeefc2f98"
      },
      "source": [
        "from collections import defaultdict\n",
        "\n",
        "evaluation = defaultdict(list)\n",
        "\n",
        "for test_data in [\"20WordsEvaluator1.csv\", \n",
        "                  \"20WordsEvaluator2.csv\", \n",
        "                  \"20WordsEvaluator3.csv\"]:\n",
        "  with open(test_data) as test_file:\n",
        "    test_file = test_file.readlines()[1:]\n",
        "    for line in test_file:\n",
        "      word, _, changed, _ = line.strip().split(\",\")\n",
        "      if changed.isnumeric():\n",
        "        evaluation[word].append(int(changed))\n",
        "\n",
        "evaluation = {word: np.array(evaluation[word]).mean() for word in evaluation}\n",
        "evaluation"
      ],
      "execution_count": 34,
      "outputs": [
        {
          "output_type": "execute_result",
          "data": {
            "text/plain": [
              "{'army': 0.0,\n",
              " 'aroma': 0.0,\n",
              " 'avenue': 0.0,\n",
              " 'bloody': 0.6666666666666666,\n",
              " 'bomb': 0.3333333333333333,\n",
              " 'books': 0.0,\n",
              " 'bothers': 0.0,\n",
              " 'breasts': 0.6666666666666666,\n",
              " 'bus': 1.0,\n",
              " 'cancer': 1.0,\n",
              " 'chase': 0.6666666666666666,\n",
              " 'closest': 0.0,\n",
              " 'concrete': 0.3333333333333333,\n",
              " 'curb': 0.0,\n",
              " 'dad': 0.0,\n",
              " 'damn': 0.6666666666666666,\n",
              " 'darlin': 0.0,\n",
              " 'disbelief': 0.3333333333333333,\n",
              " 'fooling': 0.0,\n",
              " 'foyer': 0.0,\n",
              " 'frustration': 0.3333333333333333,\n",
              " 'gorgeous': 0.3333333333333333,\n",
              " 'hind': 0.0,\n",
              " 'inc': 0.0,\n",
              " 'intelligence': 0.3333333333333333,\n",
              " 'killer': 0.6666666666666666,\n",
              " 'know': 0.0,\n",
              " 'motor': 0.6666666666666666,\n",
              " 'originator': 0.0,\n",
              " 'papa': 0.3333333333333333,\n",
              " 'passenger': 0.3333333333333333,\n",
              " 'patrol': 0.0,\n",
              " 'phone': 1.0,\n",
              " 'plan': 0.3333333333333333,\n",
              " 'press': 1.0,\n",
              " 'prize': 0.3333333333333333,\n",
              " 'random': 0.3333333333333333,\n",
              " 'repeat': 0.6666666666666666,\n",
              " 'repelling': 0.0,\n",
              " 'rib': 0.0,\n",
              " 'rick': 0.0,\n",
              " 'shower': 1.0,\n",
              " 'sip': 0.3333333333333333,\n",
              " 'slightly': 0.0,\n",
              " 'sob': 0.3333333333333333,\n",
              " 'steering': 0.6666666666666666,\n",
              " 'stormed': 0.0,\n",
              " 'supreme': 0.0,\n",
              " 'switched': 0.3333333333333333,\n",
              " 'tag': 0.6666666666666666,\n",
              " 'tape': 1.0,\n",
              " 'ted': 0.0,\n",
              " 'thet': 0.0,\n",
              " 'thrilled': 0.0,\n",
              " 'toilet': 0.6666666666666666,\n",
              " 'unbending': 0.0,\n",
              " 'unmeaning': 0.0,\n",
              " 'urge': 0.6666666666666666,\n",
              " 'voracious': 0.0,\n",
              " 'yell': 0.0}"
            ]
          },
          "metadata": {
            "tags": []
          },
          "execution_count": 34
        }
      ]
    },
    {
      "cell_type": "code",
      "metadata": {
        "id": "XAyEW7G_q_vo",
        "colab_type": "code",
        "colab": {
          "base_uri": "https://localhost:8080/",
          "height": 170
        },
        "outputId": "27c8d42c-d8a8-4733-9cc4-b3d0143396cc"
      },
      "source": [
        "idx = {}\n",
        "for i, word in enumerate(diachronic[\"w\"]):\n",
        "  if word in evaluation:\n",
        "    idx[i] = word\n",
        "\n",
        "idx"
      ],
      "execution_count": 35,
      "outputs": [
        {
          "output_type": "execute_result",
          "data": {
            "text/plain": [
              "{98: 'press',\n",
              " 220: 'army',\n",
              " 233: 'books',\n",
              " 308: 'plan',\n",
              " 455: 'supreme',\n",
              " 1072: 'intelligence',\n",
              " 1093: 'motor',\n",
              " 1659: 'cancer',\n",
              " 1663: 'avenue'}"
            ]
          },
          "metadata": {
            "tags": []
          },
          "execution_count": 35
        }
      ]
    },
    {
      "cell_type": "code",
      "metadata": {
        "id": "i9yfm4FCyeip",
        "colab_type": "code",
        "colab": {
          "base_uri": "https://localhost:8080/",
          "height": 68
        },
        "outputId": "d5f077be-aa25-4313-dc90-1290ba45a3dc"
      },
      "source": [
        "results = [first_last_cos, first_last_knn, first_last_euc]\n",
        "\n",
        "i_to_m = {0: \"cos\", 1: \"knn\", 2: \"euc\"}\n",
        "keys = list(idx.keys())\n",
        "expected_change = np.array([evaluation[v] for v in idx.values()])\n",
        "for i in range(len(results)):\n",
        "  change_from_results = np.take(results[i], keys)\n",
        "  pearson_coeff = pearsonr(expected_change, change_from_results)[0]\n",
        "  print(f\"Accuracy for method {i_to_m[i]} using Pearson Correlation:\", pearson_coeff)"
      ],
      "execution_count": 36,
      "outputs": [
        {
          "output_type": "stream",
          "text": [
            "Accuracy for method cos using Pearson Correlation: 0.43441324175136753\n",
            "Accuracy for method knn using Pearson Correlation: 0.20449106250538848\n",
            "Accuracy for method euc using Pearson Correlation: 0.43441324175136803\n"
          ],
          "name": "stdout"
        }
      ]
    },
    {
      "cell_type": "code",
      "metadata": {
        "id": "A5qfvW2-LU29",
        "colab_type": "code",
        "colab": {}
      },
      "source": [
        "import matplotlib.pyplot as plt\n",
        "\n",
        "def detect_change_point(changes, threshold):\n",
        "  decs = diachronic[\"d\"]\n",
        "  points = []\n",
        "  change_from_last_point = []\n",
        "  in_use = changes[0]\n",
        "  previous = in_use\n",
        "  for i in range(changes.shape[0]):\n",
        "    if in_use[i] >= threshold:\n",
        "      points.append(decs[i])\n",
        "      previous = in_use\n",
        "      in_use = changes[i]\n",
        "      change_from_last_point.append(previous[i])\n",
        "    else:\n",
        "      change_from_last_point.append(in_use[i])\n",
        "\n",
        "  plt.plot(decs, change_from_last_point)\n",
        "  plt.show()\n",
        "\n",
        "  return points\n",
        "    "
      ],
      "execution_count": 0,
      "outputs": []
    },
    {
      "cell_type": "code",
      "metadata": {
        "id": "AVK-tB2MTJEH",
        "colab_type": "code",
        "colab": {
          "base_uri": "https://localhost:8080/",
          "height": 85
        },
        "outputId": "a6a7eb16-1345-4ae1-f458-352bf4dd9d4a"
      },
      "source": [
        "most_changed = first_last_euc.argsort()[-3:]\n",
        "word1 = euc_distances[most_changed[0]]\n",
        "word2 = euc_distances[most_changed[1]]\n",
        "word3 = euc_distances[most_changed[2]]\n",
        "print(\"Top 3 changing words using euclidean distance:\")\n",
        "print(diachronic[\"w\"][most_changed[0]])\n",
        "print(diachronic[\"w\"][most_changed[1]])\n",
        "print(diachronic[\"w\"][most_changed[2]])"
      ],
      "execution_count": 38,
      "outputs": [
        {
          "output_type": "stream",
          "text": [
            "Top 3 changing words using euclidean distance:\n",
            "computer\n",
            "objectives\n",
            "programs\n"
          ],
          "name": "stdout"
        }
      ]
    },
    {
      "cell_type": "code",
      "metadata": {
        "id": "DmUTARzek4V9",
        "colab_type": "code",
        "colab": {
          "base_uri": "https://localhost:8080/",
          "height": 282
        },
        "outputId": "060903e7-b084-4930-9b72-252cbc96aa6f"
      },
      "source": [
        "detect_change_point(word1, 0.4)"
      ],
      "execution_count": 39,
      "outputs": [
        {
          "output_type": "display_data",
          "data": {
            "image/png": "[encoded data removed]",
            "text/plain": [
              "<Figure size 432x288 with 1 Axes>"
            ]
          },
          "metadata": {
            "tags": []
          }
        },
        {
          "output_type": "execute_result",
          "data": {
            "text/plain": [
              "[1910, 1940, 1950, 1960, 1970, 1980, 1990]"
            ]
          },
          "metadata": {
            "tags": []
          },
          "execution_count": 39
        }
      ]
    },
    {
      "cell_type": "code",
      "metadata": {
        "id": "uOh9CkM8ll82",
        "colab_type": "code",
        "colab": {
          "base_uri": "https://localhost:8080/",
          "height": 282
        },
        "outputId": "989eb745-3c02-4892-b3e3-7dab1acbf549"
      },
      "source": [
        "detect_change_point(word2, 0.4)"
      ],
      "execution_count": 40,
      "outputs": [
        {
          "output_type": "display_data",
          "data": {
            "image/png": "[encoded data removed]",
            "text/plain": [
              "<Figure size 432x288 with 1 Axes>"
            ]
          },
          "metadata": {
            "tags": []
          }
        },
        {
          "output_type": "execute_result",
          "data": {
            "text/plain": [
              "[1910, 1920, 1930, 1940, 1950, 1960, 1970, 1980, 1990]"
            ]
          },
          "metadata": {
            "tags": []
          },
          "execution_count": 40
        }
      ]
    },
    {
      "cell_type": "code",
      "metadata": {
        "id": "1S7i4Gglo6O6",
        "colab_type": "code",
        "colab": {
          "base_uri": "https://localhost:8080/",
          "height": 282
        },
        "outputId": "17bf1788-2db7-4d8a-bb31-b68f6f743808"
      },
      "source": [
        "detect_change_point(word3, 0.4)"
      ],
      "execution_count": 41,
      "outputs": [
        {
          "output_type": "display_data",
          "data": {
            "image/png": "[encoded data removed]",
            "text/plain": [
              "<Figure size 432x288 with 1 Axes>"
            ]
          },
          "metadata": {
            "tags": []
          }
        },
        {
          "output_type": "execute_result",
          "data": {
            "text/plain": [
              "[1910, 1920, 1930, 1940, 1950, 1960, 1970, 1980, 1990]"
            ]
          },
          "metadata": {
            "tags": []
          },
          "execution_count": 41
        }
      ]
    },
    {
      "cell_type": "code",
      "metadata": {
        "id": "1WtZRyhVo7-T",
        "colab_type": "code",
        "colab": {}
      },
      "source": [
        ""
      ],
      "execution_count": 0,
      "outputs": []
    }
  ]
}